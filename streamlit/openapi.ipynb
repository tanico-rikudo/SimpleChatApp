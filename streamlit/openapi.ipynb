{
 "cells": [
  {
   "cell_type": "code",
   "execution_count": 6,
   "metadata": {},
   "outputs": [],
   "source": [
    "OPENAI_API_KEY = \"\"\n",
    "MODEL_NAME=\"gpt-3.5-turbo\"\n"
   ]
  },
  {
   "cell_type": "code",
   "execution_count": 7,
   "metadata": {},
   "outputs": [],
   "source": [
    "from langchain_openai.chat_models import ChatOpenAI\n",
    "from langchain_core.prompts import ChatPromptTemplate, MessagesPlaceholder\n",
    "from langchain_community.chat_message_histories import ChatMessageHistory\n",
    "from langchain_core.chat_history import BaseChatMessageHistory\n",
    "from langchain_core.runnables.history import RunnableWithMessageHistory\n",
    "\n",
    "# 言語モデルの準備\n",
    "chat_model = ChatOpenAI(\n",
    "        openai_api_key=OPENAI_API_KEY,\n",
    "        model=MODEL_NAME\n",
    ")"
   ]
  },
  {
   "cell_type": "code",
   "execution_count": 23,
   "metadata": {},
   "outputs": [],
   "source": [
    "class Chat:\n",
    "    def __init__(self):\n",
    "        self.store = {}\n",
    "        self.runnable_with_history = None\n",
    "        \n",
    "    # システムプロンプトを定義する関数\n",
    "    def create_system_prompt(self):\n",
    "        return \"あなたは親切で知識豊富なアシスタントです。ユーザーの質問に的確かつ簡潔に答えてください。\"\n",
    "    \n",
    "    # プロンプトテンプレートを定義する関数\n",
    "    def create_prompt_template(self):\n",
    "        return ChatPromptTemplate.from_messages(\n",
    "            [\n",
    "                (\"system\", self.create_system_prompt()),  # システムプロンプトを追加\n",
    "                MessagesPlaceholder(variable_name=\"history\"),  # 会話履歴の追加\n",
    "                (\"human\", \"{input}\"),\n",
    "            ]\n",
    "        )\n",
    "        \n",
    "    # セッションIDごとの会話履歴の取得\n",
    "    def get_session_history(self, session_id: str) -> BaseChatMessageHistory:\n",
    "        if session_id not in self.store:\n",
    "            self.store[session_id] = ChatMessageHistory()\n",
    "        return self.store[session_id]\n",
    "\n",
    "    # RunnableWithMessageHistoryの準備\n",
    "    def gen_runnable(self, session_id):\n",
    "        prompt_template = self.create_prompt_template()\n",
    "        runnable = prompt_template | chat_model\n",
    "        runnable_with_history = RunnableWithMessageHistory(\n",
    "            runnable,\n",
    "            lambda _:self.get_session_history(session_id),\n",
    "            input_messages_key=\"input\",\n",
    "            history_messages_key=\"history\",\n",
    "        )\n",
    "        return runnable_with_history\n",
    "    \n",
    "    # 会話の処理関数\n",
    "    def run_conversation(self, session_id: str, user_input: str):\n",
    "        if self.runnable_with_history is None:\n",
    "            self.runnable_with_history = self.gen_runnable(session_id)\n",
    "        output = self.runnable_with_history.invoke(\n",
    "            {\"input\": user_input},\n",
    "            config={\"configurable\": {\"session_id\": session_id}},\n",
    "        )\n",
    "        return output.content\n"
   ]
  },
  {
   "cell_type": "code",
   "execution_count": 24,
   "metadata": {},
   "outputs": [
    {
     "name": "stdout",
     "output_type": "stream",
     "text": [
      "素敵な名前ですね！白子ちゃんは元気ですか？\n"
     ]
    }
   ],
   "source": [
    "\n",
    "# 1回目の会話\n",
    "session_id = \"123\"\n",
    "user_input = \"うちの猫の名前は白子です。\"\n",
    "chat = Chat()\n",
    "output = chat.run_conversation(session_id, user_input)\n",
    "print(output)\n"
   ]
  },
  {
   "cell_type": "code",
   "execution_count": 26,
   "metadata": {},
   "outputs": [
    {
     "name": "stdout",
     "output_type": "stream",
     "text": [
      "白子（しらこ）ですね。可愛い名前ですね。\n"
     ]
    }
   ],
   "source": [
    "output = chat.run_conversation(\n",
    "user_input= \"うちの猫の名前を読んでください。\",\n",
    "session_id=123\n",
    ")\n",
    "print(output)\n"
   ]
  },
  {
   "cell_type": "code",
   "execution_count": 28,
   "metadata": {},
   "outputs": [
    {
     "name": "stdout",
     "output_type": "stream",
     "text": [
      "白ちゃん、シラちゃん、コちゃん、などいかがでしょうか？\n"
     ]
    }
   ],
   "source": [
    "output = chat.run_conversation(\n",
    "user_input= \"うちの猫の名前を使って、あだ名を考えて下さい\",\n",
    "session_id=123\n",
    ")\n",
    "print(output)"
   ]
  },
  {
   "cell_type": "code",
   "execution_count": null,
   "metadata": {},
   "outputs": [],
   "source": []
  }
 ],
 "metadata": {
  "kernelspec": {
   "display_name": "Python 3 (ipykernel)",
   "language": "python",
   "name": "python3"
  },
  "language_info": {
   "codemirror_mode": {
    "name": "ipython",
    "version": 3
   },
   "file_extension": ".py",
   "mimetype": "text/x-python",
   "name": "python",
   "nbconvert_exporter": "python",
   "pygments_lexer": "ipython3",
   "version": "3.9.7"
  }
 },
 "nbformat": 4,
 "nbformat_minor": 4
}
